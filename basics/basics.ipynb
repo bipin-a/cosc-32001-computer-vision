{
 "cells": [
  {
   "cell_type": "code",
   "execution_count": 1,
   "id": "5e6c83e3-977f-422e-88da-b4a64c32851f",
   "metadata": {},
   "outputs": [],
   "source": [
    "import matplotlib.pyplot as plt\n",
    "import cv2\n"
   ]
  },
  {
   "cell_type": "code",
   "execution_count": 2,
   "id": "9773cd0c-8ad0-45d6-95bd-70184a7e77b6",
   "metadata": {},
   "outputs": [],
   "source": [
    "image_path = '../images/blue.png'\n"
   ]
  },
  {
   "cell_type": "code",
   "execution_count": 3,
   "id": "782dfefa-c09f-4af5-901a-e145100f5c5e",
   "metadata": {
    "scrolled": true
   },
   "outputs": [
    {
     "data": {
      "text/plain": [
       "array([[[255,  96,   0],\n",
       "        [255,  96,   0],\n",
       "        [255,  96,   0],\n",
       "        ...,\n",
       "        [255,  96,   0],\n",
       "        [236,  89,   0],\n",
       "        [208, 175, 119]],\n",
       "\n",
       "       [[255,  96,   0],\n",
       "        [255,  96,   0],\n",
       "        [255,  96,   0],\n",
       "        ...,\n",
       "        [255,  96,   0],\n",
       "        [236,  89,   0],\n",
       "        [208, 175, 119]],\n",
       "\n",
       "       [[255,  96,   0],\n",
       "        [255,  96,   0],\n",
       "        [255,  96,   0],\n",
       "        ...,\n",
       "        [255,  96,   0],\n",
       "        [236,  89,   0],\n",
       "        [208, 175, 119]],\n",
       "\n",
       "       ...,\n",
       "\n",
       "       [[255,  94,   1],\n",
       "        [255,  94,   1],\n",
       "        [255,  94,   1],\n",
       "        ...,\n",
       "        [252,  96,   0],\n",
       "        [232,  87,   0],\n",
       "        [209, 173, 121]],\n",
       "\n",
       "       [[236,  89,   0],\n",
       "        [236,  89,   0],\n",
       "        [236,  89,   0],\n",
       "        ...,\n",
       "        [236,  89,   0],\n",
       "        [218,  81,   0],\n",
       "        [203, 170, 120]],\n",
       "\n",
       "       [[209, 173, 121],\n",
       "        [209, 173, 121],\n",
       "        [209, 173, 121],\n",
       "        ...,\n",
       "        [209, 173, 121],\n",
       "        [203, 170, 120],\n",
       "        [220, 212, 176]]], shape=(177, 285, 3), dtype=uint8)"
      ]
     },
     "execution_count": 3,
     "metadata": {},
     "output_type": "execute_result"
    }
   ],
   "source": [
    "# Method 1: Load an image using OpenCV and display it\n",
    "\n",
    "image = cv2.imread(image_path)\n",
    "image"
   ]
  },
  {
   "cell_type": "code",
   "execution_count": 8,
   "id": "b4507287-9d77-4f02-9fcd-b206381bdf10",
   "metadata": {},
   "outputs": [
    {
     "data": {
      "text/plain": [
       "(177, 285, 3)"
      ]
     },
     "execution_count": 8,
     "metadata": {},
     "output_type": "execute_result"
    }
   ],
   "source": [
    "image.shape"
   ]
  },
  {
   "cell_type": "code",
   "execution_count": 12,
   "id": "96596c60-eb69-4cff-8e47-c50b08449514",
   "metadata": {},
   "outputs": [
    {
     "data": {
      "text/plain": [
       "array([255,  96,   0], dtype=uint8)"
      ]
     },
     "execution_count": 12,
     "metadata": {},
     "output_type": "execute_result"
    }
   ],
   "source": [
    "image[1][0]"
   ]
  },
  {
   "cell_type": "code",
   "execution_count": 13,
   "id": "8a181e9b-0d11-48a8-901c-c63dabfb9794",
   "metadata": {},
   "outputs": [
    {
     "data": {
      "text/plain": [
       "array([208, 175, 119], dtype=uint8)"
      ]
     },
     "execution_count": 13,
     "metadata": {},
     "output_type": "execute_result"
    }
   ],
   "source": [
    "image[1][-1]"
   ]
  },
  {
   "cell_type": "code",
   "execution_count": 4,
   "id": "5f6b7e1e-3871-448c-9019-73eaa867c59f",
   "metadata": {},
   "outputs": [],
   "source": [
    "# `cv2.imshow` does not function well with jupyter lab. Uncomment line below to see\n",
    "# cv2.imshow('Loaded Image', image)\n"
   ]
  },
  {
   "cell_type": "code",
   "execution_count": 5,
   "id": "2976b75b-320d-4717-b470-da8981508b62",
   "metadata": {},
   "outputs": [
    {
     "data": {
      "image/png": "[encoded data removed]",
      "text/plain": [
       "<Figure size 800x600 with 1 Axes>"
      ]
     },
     "metadata": {},
     "output_type": "display_data"
    }
   ],
   "source": [
    "# Need to convert the BGR to RGF\n",
    "image_rgb = cv2.cvtColor(image, cv2.COLOR_BGR2RGB)\n",
    "\n",
    "plt.figure(figsize=(8, 6))\n",
    "plt.imshow(image_rgb)\n",
    "plt.axis('off')\n",
    "plt.show()\n"
   ]
  },
  {
   "cell_type": "code",
   "execution_count": 6,
   "id": "3ecc46f8-0b05-45ad-bf96-9d6f7c8d78ad",
   "metadata": {},
   "outputs": [
    {
     "data": {
      "image/png": "[encoded data removed]",
      "text/plain": [
       "<Figure size 800x600 with 1 Axes>"
      ]
     },
     "metadata": {},
     "output_type": "display_data"
    }
   ],
   "source": [
    "# If you don't convert it \n",
    "\n",
    "plt.figure(figsize=(8, 6))\n",
    "plt.imshow(image)\n",
    "plt.axis('off')\n",
    "plt.show()\n"
   ]
  },
  {
   "cell_type": "code",
   "execution_count": 7,
   "id": "381dc6af-6de6-4e60-86f1-05bbdd1efd08",
   "metadata": {},
   "outputs": [
    {
     "data": {
      "image/png": "[encoded data removed]",
      "text/plain": [
       "<Figure size 640x480 with 1 Axes>"
      ]
     },
     "metadata": {},
     "output_type": "display_data"
    }
   ],
   "source": [
    "# Method 3: Load an image using skimage and display it\n",
    "from skimage import io\n",
    "import matplotlib.pyplot as plt\n",
    "\n",
    "img = io.imread(image_path)\n",
    "\n",
    "plt.imshow(img)\n",
    "plt.axis('off')\n",
    "plt.show()"
   ]
  },
  {
   "cell_type": "code",
   "execution_count": null,
   "id": "9e162700-6b25-4255-a702-1132298b397a",
   "metadata": {},
   "outputs": [],
   "source": []
  }
 ],
 "metadata": {
  "kernelspec": {
   "display_name": "Python 3 (ipykernel)",
   "language": "python",
   "name": "python3"
  },
  "language_info": {
   "codemirror_mode": {
    "name": "ipython",
    "version": 3
   },
   "file_extension": ".py",
   "mimetype": "text/x-python",
   "name": "python",
   "nbconvert_exporter": "python",
   "pygments_lexer": "ipython3",
   "version": "3.10.16"
  }
 },
 "nbformat": 4,
 "nbformat_minor": 5
}
