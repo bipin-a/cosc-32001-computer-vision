{
 "cells": [
  {
   "cell_type": "code",
   "execution_count": 1,
   "id": "5e6c83e3-977f-422e-88da-b4a64c32851f",
   "metadata": {},
   "outputs": [],
   "source": [
    "import matplotlib.pyplot as plt\n",
    "import cv2\n"
   ]
  },
  {
   "cell_type": "code",
   "execution_count": null,
   "id": "aee134f3-e991-437d-9d71-6735a591906c",
   "metadata": {},
   "outputs": [],
   "source": [
    "cv2.__version__"
   ]
  },
  {
   "cell_type": "code",
   "execution_count": 10,
   "id": "4a2279f7-ce26-4a39-aa3a-65a9ee7669f6",
   "metadata": {},
   "outputs": [
    {
     "name": "stdout",
     "output_type": "stream",
     "text": [
      "<class 'module'>\n"
     ]
    }
   ],
   "source": [
    "print(type(cv2))"
   ]
  },
  {
   "cell_type": "code",
   "execution_count": 19,
   "id": "60503773-988c-4d3f-bb6f-5c8780178bd6",
   "metadata": {},
   "outputs": [
    {
     "name": "stdout",
     "output_type": "stream",
     "text": [
      "/Users/aasibipin/cosc-32001-computer-vision/basics\n"
     ]
    }
   ],
   "source": [
    "! pwd"
   ]
  },
  {
   "cell_type": "code",
   "execution_count": 2,
   "id": "9773cd0c-8ad0-45d6-95bd-70184a7e77b6",
   "metadata": {},
   "outputs": [],
   "source": [
    "image_path = '../images/blue.png'\n"
   ]
  },
  {
   "cell_type": "markdown",
   "id": "20e9d054-71a1-49ca-9b5f-d0a56af9164e",
   "metadata": {},
   "source": [
    "## What is a method?"
   ]
  },
  {
   "cell_type": "code",
   "execution_count": 121,
   "id": "e60a363a-94ef-4ec3-94b6-af63ab30cce1",
   "metadata": {},
   "outputs": [],
   "source": [
    "# KISS (Keep It Simple, Stupid)\n",
    "\n",
    "# Function that belongs to a class \n",
    "\n",
    "class FileReader:\n",
    "    \"\"\"\n",
    "    This is a doc string\n",
    "    \"\"\"\n",
    "\n",
    "    def __init__(self, file_path):\n",
    "        self.file_path = None\n",
    "        self.image = None\n",
    "        self.image_rgb = None\n",
    "\n",
    "    def read_image(self):\n",
    "        self.image = cv2.imread(image_path)\n",
    "        # Need to convert the BGR to RGB\n",
    "        # Uses BGR because of cameras  https://stackoverflow.com/a/33787594 \n",
    "        self.image_rgb = cv2.cvtColor(self.image, cv2.COLOR_BGR2RGB)\n",
    "\n",
    "    def show_image(self, image):\n",
    "        plt.figure(figsize=(8, 6))\n",
    "        plt.imshow(image)\n",
    "        plt.axis('off')\n",
    "        plt.show()\n",
    "\n",
    "    # This is an optimization which you may do when you have large images.\n",
    "    # That does not use up as much memory.\n",
    "    # def show_rgb_image(self):\n",
    "    #     plt.figure(figsize=(8, 6))\n",
    "    #     plt.imshow(self.image_rgb)\n",
    "    #     plt.axis('off')\n",
    "    #     plt.show()\n",
    "\n",
    "    # def show_og_image(self):\n",
    "    #     plt.figure(figsize=(8, 6))\n",
    "    #     plt.imshow(self.image)\n",
    "    #     plt.axis('off')\n",
    "    #     plt.show()\n"
   ]
  },
  {
   "cell_type": "code",
   "execution_count": 126,
   "id": "bb020f0a-be3a-4ef4-97ba-55f3ef02b2cc",
   "metadata": {},
   "outputs": [
    {
     "data": {
      "image/png": "[encoded data removed]",
      "text/plain": [
       "<Figure size 800x600 with 1 Axes>"
      ]
     },
     "metadata": {},
     "output_type": "display_data"
    }
   ],
   "source": [
    "fr = FileReader(image_path) \n",
    "fr.read_image()\n",
    "fr.show_image(fr.image_rgb)"
   ]
  },
  {
   "cell_type": "code",
   "execution_count": 137,
   "id": "f7699be7-35d7-4412-84ae-d9a27d5be94b",
   "metadata": {
    "scrolled": true
   },
   "outputs": [
    {
     "data": {
      "text/plain": [
       "array([[  0,  96, 255],\n",
       "       [  0,  96, 255],\n",
       "       [  0,  96, 255],\n",
       "       [  0,  96, 255],\n",
       "       [  0,  96, 255],\n",
       "       [  0,  96, 255],\n",
       "       [  0,  96, 255],\n",
       "       [  0,  96, 255],\n",
       "       [  0,  96, 255],\n",
       "       [  0,  96, 255],\n",
       "       [  0,  96, 255],\n",
       "       [  0,  96, 255],\n",
       "       [  0,  96, 255],\n",
       "       [  0,  96, 255],\n",
       "       [  0,  96, 255],\n",
       "       [  0,  96, 255],\n",
       "       [  0,  96, 255],\n",
       "       [  0,  96, 255],\n",
       "       [  0,  96, 255],\n",
       "       [  0,  96, 255],\n",
       "       [  0,  96, 255],\n",
       "       [  0,  96, 255],\n",
       "       [  0,  96, 255],\n",
       "       [  0,  96, 255],\n",
       "       [  0,  96, 255],\n",
       "       [  0,  96, 255],\n",
       "       [  0,  96, 255],\n",
       "       [  0,  96, 255],\n",
       "       [  0,  96, 255],\n",
       "       [  0,  96, 255],\n",
       "       [  0,  96, 255],\n",
       "       [  0,  96, 255],\n",
       "       [  0,  96, 255],\n",
       "       [  0,  96, 255],\n",
       "       [  0,  96, 255],\n",
       "       [  0,  96, 255],\n",
       "       [  0,  96, 255],\n",
       "       [  0,  96, 255],\n",
       "       [  0,  96, 255],\n",
       "       [  0,  96, 255],\n",
       "       [  0,  96, 255],\n",
       "       [  0,  96, 255],\n",
       "       [  0,  96, 255],\n",
       "       [  0,  96, 255],\n",
       "       [  0,  96, 255],\n",
       "       [  0,  96, 255],\n",
       "       [  0,  96, 255],\n",
       "       [  0,  96, 255],\n",
       "       [  0,  96, 255],\n",
       "       [  0,  96, 255],\n",
       "       [  0,  96, 255],\n",
       "       [  0,  96, 255],\n",
       "       [  0,  96, 255],\n",
       "       [  0,  96, 255],\n",
       "       [  0,  96, 255],\n",
       "       [  0,  96, 255],\n",
       "       [  0,  96, 255],\n",
       "       [  0,  96, 255],\n",
       "       [  0,  96, 255],\n",
       "       [  0,  96, 255],\n",
       "       [  0,  96, 255],\n",
       "       [  0,  96, 255],\n",
       "       [  0,  96, 255],\n",
       "       [  0,  96, 255],\n",
       "       [  0,  96, 255],\n",
       "       [  0,  96, 255],\n",
       "       [  0,  96, 255],\n",
       "       [  0,  96, 255],\n",
       "       [  0,  96, 255],\n",
       "       [  0,  96, 255],\n",
       "       [  0,  96, 255],\n",
       "       [  0,  96, 255],\n",
       "       [  0,  96, 255],\n",
       "       [  0,  96, 255],\n",
       "       [  0,  96, 255],\n",
       "       [  0,  96, 255],\n",
       "       [  0,  96, 255],\n",
       "       [  0,  96, 255],\n",
       "       [  0,  96, 255],\n",
       "       [  0,  96, 255],\n",
       "       [  0,  96, 255],\n",
       "       [  0,  96, 255],\n",
       "       [  0,  96, 255],\n",
       "       [  0,  96, 255],\n",
       "       [  0,  96, 255],\n",
       "       [  0,  96, 255],\n",
       "       [  0,  96, 255],\n",
       "       [  0,  96, 255],\n",
       "       [  0,  96, 255],\n",
       "       [  0,  96, 255],\n",
       "       [  0,  96, 255],\n",
       "       [  0,  96, 255],\n",
       "       [  0,  96, 255],\n",
       "       [  0,  96, 255],\n",
       "       [  0,  96, 255],\n",
       "       [  0,  96, 255],\n",
       "       [  0,  96, 255],\n",
       "       [  0,  96, 255],\n",
       "       [  0,  96, 255],\n",
       "       [  0,  96, 255],\n",
       "       [  0,  96, 255],\n",
       "       [  0,  96, 255],\n",
       "       [  0,  96, 255],\n",
       "       [  0,  96, 255],\n",
       "       [  0,  96, 255],\n",
       "       [  0,  96, 255],\n",
       "       [  0,  96, 255],\n",
       "       [  0,  96, 255],\n",
       "       [  0,  96, 255],\n",
       "       [  0,  96, 255],\n",
       "       [  0,  96, 255],\n",
       "       [  0,  96, 255],\n",
       "       [  0,  96, 255],\n",
       "       [  0,  96, 255],\n",
       "       [  0,  96, 255],\n",
       "       [  0,  96, 255],\n",
       "       [  0,  96, 255],\n",
       "       [  0,  96, 255],\n",
       "       [  0,  96, 255],\n",
       "       [  0,  96, 255],\n",
       "       [  0,  96, 255],\n",
       "       [  0,  96, 255],\n",
       "       [  0,  96, 255],\n",
       "       [  0,  96, 255],\n",
       "       [  0,  96, 255],\n",
       "       [  0,  96, 255],\n",
       "       [  0,  96, 255],\n",
       "       [  0,  96, 255],\n",
       "       [  0,  96, 255],\n",
       "       [  0,  96, 255],\n",
       "       [  0,  96, 255],\n",
       "       [  0,  96, 255],\n",
       "       [  0,  96, 255],\n",
       "       [  0,  96, 255],\n",
       "       [  0,  96, 255],\n",
       "       [  0,  96, 255],\n",
       "       [  0,  96, 255],\n",
       "       [  0,  96, 255],\n",
       "       [  0,  96, 255],\n",
       "       [  0,  96, 255],\n",
       "       [  0,  96, 255],\n",
       "       [  0,  96, 255],\n",
       "       [  0,  96, 255],\n",
       "       [  0,  96, 255],\n",
       "       [  0,  96, 255],\n",
       "       [  0,  96, 255],\n",
       "       [  0,  96, 255],\n",
       "       [  0,  96, 255],\n",
       "       [  0,  96, 255],\n",
       "       [  0,  96, 255],\n",
       "       [  0,  96, 255],\n",
       "       [  0,  96, 255],\n",
       "       [  0,  96, 255],\n",
       "       [  0,  96, 255],\n",
       "       [  0,  96, 255],\n",
       "       [  0,  96, 255],\n",
       "       [  0,  96, 255],\n",
       "       [  0,  96, 255],\n",
       "       [  0,  96, 255],\n",
       "       [  0,  96, 255],\n",
       "       [  0,  96, 255],\n",
       "       [  0,  96, 255],\n",
       "       [  0,  96, 255],\n",
       "       [  0,  96, 255],\n",
       "       [  0,  96, 255],\n",
       "       [  0,  96, 255],\n",
       "       [  0,  96, 255],\n",
       "       [  0,  96, 255],\n",
       "       [  0,  96, 255],\n",
       "       [  0,  96, 255],\n",
       "       [  0,  96, 254],\n",
       "       [  0,  96, 254],\n",
       "       [  0,  96, 255],\n",
       "       [  0,  96, 254],\n",
       "       [  1,  94, 255],\n",
       "       [  0,  89, 236],\n",
       "       [121, 173, 209]], dtype=uint8)"
      ]
     },
     "execution_count": 137,
     "metadata": {},
     "output_type": "execute_result"
    }
   ],
   "source": [
    "# The bottom most row\n",
    "fr.image_rgb[:,-1]\n",
    "\n",
    "# The top most row\n",
    "fr.image_rgb[:,0]\n"
   ]
  },
  {
   "cell_type": "code",
   "execution_count": 138,
   "id": "9765603c-aa31-44e3-9cf6-fcf734d0db62",
   "metadata": {},
   "outputs": [
    {
     "data": {
      "text/plain": [
       "array([  0,  96, 255], dtype=uint8)"
      ]
     },
     "execution_count": 138,
     "metadata": {},
     "output_type": "execute_result"
    }
   ],
   "source": [
    "# Access a pixel\n",
    "fr.image_rgb[2,0]\n"
   ]
  },
  {
   "cell_type": "markdown",
   "id": "456c12e2-6b61-483c-b304-92fe088f63d6",
   "metadata": {},
   "source": [
    "## Dunder Methods"
   ]
  },
  {
   "cell_type": "code",
   "execution_count": 16,
   "id": "7f2bfb98-2bdd-4019-929b-5f8f25621996",
   "metadata": {},
   "outputs": [
    {
     "data": {
      "text/plain": [
       "'../images/blue.png21'"
      ]
     },
     "execution_count": 16,
     "metadata": {},
     "output_type": "execute_result"
    }
   ],
   "source": [
    "image_path + '21'"
   ]
  },
  {
   "cell_type": "code",
   "execution_count": 15,
   "id": "bcc2da01-6e03-4ead-a0b7-88ebb1789e5a",
   "metadata": {},
   "outputs": [
    {
     "data": {
      "text/plain": [
       "'../images/blue.png21'"
      ]
     },
     "execution_count": 15,
     "metadata": {},
     "output_type": "execute_result"
    }
   ],
   "source": [
    "image_path.__add__('21')"
   ]
  },
  {
   "cell_type": "code",
   "execution_count": 17,
   "id": "fb5967e8-6bc4-4213-b0ee-e3e766dda6ce",
   "metadata": {},
   "outputs": [
    {
     "data": {
      "text/plain": [
       "False"
      ]
     },
     "execution_count": 17,
     "metadata": {},
     "output_type": "execute_result"
    }
   ],
   "source": [
    "image_path == '21'"
   ]
  },
  {
   "cell_type": "code",
   "execution_count": null,
   "id": "c786880c-7027-402e-aa59-6e16a35f4970",
   "metadata": {},
   "outputs": [],
   "source": []
  },
  {
   "cell_type": "code",
   "execution_count": null,
   "id": "ecf82786-d637-458e-be8d-89abca860417",
   "metadata": {},
   "outputs": [],
   "source": []
  },
  {
   "cell_type": "code",
   "execution_count": 7,
   "id": "381dc6af-6de6-4e60-86f1-05bbdd1efd08",
   "metadata": {},
   "outputs": [
    {
     "data": {
      "image/png": "[encoded data removed]",
      "text/plain": [
       "<Figure size 640x480 with 1 Axes>"
      ]
     },
     "metadata": {},
     "output_type": "display_data"
    }
   ],
   "source": [
    "# Method 3: Load an image using skimage and display it\n",
    "from skimage import io\n",
    "import matplotlib.pyplot as plt\n",
    "\n",
    "img = io.imread(image_path)\n",
    "\n",
    "plt.imshow(img)\n",
    "plt.axis('off')\n",
    "plt.show()"
   ]
  },
  {
   "cell_type": "code",
   "execution_count": null,
   "id": "9e162700-6b25-4255-a702-1132298b397a",
   "metadata": {},
   "outputs": [],
   "source": []
  }
 ],
 "metadata": {
  "kernelspec": {
   "display_name": "Python 3 (ipykernel)",
   "language": "python",
   "name": "python3"
  },
  "language_info": {
   "codemirror_mode": {
    "name": "ipython",
    "version": 3
   },
   "file_extension": ".py",
   "mimetype": "text/x-python",
   "name": "python",
   "nbconvert_exporter": "python",
   "pygments_lexer": "ipython3",
   "version": "3.10.16"
  }
 },
 "nbformat": 4,
 "nbformat_minor": 5
}
